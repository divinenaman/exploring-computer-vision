{
 "cells": [
  {
   "cell_type": "code",
   "execution_count": 1,
   "id": "b91f4f28-8fd2-47a9-9c5d-48ce63ad295b",
   "metadata": {},
   "outputs": [
    {
     "name": "stderr",
     "output_type": "stream",
     "text": [
      "2023-12-04 22:14:17.494956: E external/local_xla/xla/stream_executor/cuda/cuda_dnn.cc:9261] Unable to register cuDNN factory: Attempting to register factory for plugin cuDNN when one has already been registered\n",
      "2023-12-04 22:14:17.495056: E external/local_xla/xla/stream_executor/cuda/cuda_fft.cc:607] Unable to register cuFFT factory: Attempting to register factory for plugin cuFFT when one has already been registered\n",
      "2023-12-04 22:14:17.519570: E external/local_xla/xla/stream_executor/cuda/cuda_blas.cc:1515] Unable to register cuBLAS factory: Attempting to register factory for plugin cuBLAS when one has already been registered\n",
      "2023-12-04 22:14:17.579026: I tensorflow/core/platform/cpu_feature_guard.cc:182] This TensorFlow binary is optimized to use available CPU instructions in performance-critical operations.\n",
      "To enable the following instructions: AVX2 FMA, in other operations, rebuild TensorFlow with the appropriate compiler flags.\n",
      "2023-12-04 22:14:18.702609: W tensorflow/compiler/tf2tensorrt/utils/py_utils.cc:38] TF-TRT Warning: Could not find TensorRT\n",
      "/home/naman/dev/exploring-computer-vision/venv/lib/python3.10/site-packages/tqdm/auto.py:21: TqdmWarning: IProgress not found. Please update jupyter and ipywidgets. See https://ipywidgets.readthedocs.io/en/stable/user_install.html\n",
      "  from .autonotebook import tqdm as notebook_tqdm\n"
     ]
    }
   ],
   "source": [
    "import matplotlib.pyplot as plt\n",
    "import numpy as np\n",
    "import tensorflow as tf\n",
    "\n",
    "import tensorflow_datasets as tfds"
   ]
  },
  {
   "cell_type": "code",
   "execution_count": 69,
   "id": "5047500d-b4c9-4193-8ee0-5f57e846547b",
   "metadata": {},
   "outputs": [
    {
     "name": "stdout",
     "output_type": "stream",
     "text": [
      "2.15.0\n",
      "[PhysicalDevice(name='/physical_device:CPU:0', device_type='CPU'), PhysicalDevice(name='/physical_device:GPU:0', device_type='GPU')]\n",
      "Num GPUs Available:  [PhysicalDevice(name='/physical_device:GPU:0', device_type='GPU')]\n"
     ]
    }
   ],
   "source": [
    "%matplotlib inline\n",
    "plt.rcParams['figure.figsize'] = (5.0, 4.0)\n",
    "plt.rcParams['image.cmap'] = 'Greys'\n",
    "\n",
    "print(tf.__version__)\n",
    "print(tf.config.get_visible_devices())\n",
    "print(\"Num GPUs Available: \", tf.config.list_physical_devices('GPU'))"
   ]
  },
  {
   "cell_type": "code",
   "execution_count": 70,
   "id": "da7b446d-0b8c-40c4-8e64-eb668bd1c63a",
   "metadata": {},
   "outputs": [
    {
     "name": "stdout",
     "output_type": "stream",
     "text": [
      "<_PrefetchDataset element_spec=(TensorSpec(shape=(28, 28, 1), dtype=tf.uint8, name=None), TensorSpec(shape=(), dtype=tf.int64, name=None))>\n"
     ]
    }
   ],
   "source": [
    "(ds_train, ds_test) = tfds.load('mnist', split=['train', 'test'], shuffle_files=True, as_supervised=True)\n",
    "print(ds_train)"
   ]
  },
  {
   "cell_type": "code",
   "execution_count": 71,
   "id": "3b82e751-4efe-48d0-9de9-4637dfb4928f",
   "metadata": {},
   "outputs": [
    {
     "data": {
      "text/plain": [
       "(<_BatchDataset element_spec=(TensorSpec(shape=(None, 28, 28, 1), dtype=tf.float32, name=None), TensorSpec(shape=(None,), dtype=tf.int64, name=None))>,\n",
       " <_BatchDataset element_spec=(TensorSpec(shape=(None, 28, 28, 1), dtype=tf.float32, name=None), TensorSpec(shape=(None,), dtype=tf.int64, name=None))>)"
      ]
     },
     "execution_count": 71,
     "metadata": {},
     "output_type": "execute_result"
    }
   ],
   "source": [
    "def normalize_img(image, label):\n",
    "  \"\"\"Normalizes images: `uint8` -> `float32`.\"\"\"\n",
    "  return tf.cast(image, tf.float32) / 255., label\n",
    "\n",
    "ds_train = ds_train.map(normalize_img)\n",
    "ds_train = ds_train.batch(100)\n",
    "\n",
    "ds_test_norm = ds_test.map(normalize_img)\n",
    "ds_test = ds_test_norm.batch(100)\n",
    "\n",
    "(ds_train, ds_test)"
   ]
  },
  {
   "cell_type": "code",
   "execution_count": 72,
   "id": "a03295e8-dd4f-410b-8756-bdfdb2ddb597",
   "metadata": {},
   "outputs": [],
   "source": [
    "# wx + b\n",
    "model = tf.keras.models.Sequential([\n",
    "  tf.keras.layers.Flatten(input_shape=(28, 28)),\n",
    "  tf.keras.layers.Dense(10),\n",
    "  tf.keras.layers.Softmax()\n",
    "])\n",
    "\n",
    "# loss fn\n",
    "cross_en = tf.keras.losses.SparseCategoricalCrossentropy(reduction=tf.keras.losses.Reduction.SUM)\n",
    "\n",
    "model.compile(loss=cross_en, metrics=['accuracy'])"
   ]
  },
  {
   "cell_type": "code",
   "execution_count": 73,
   "id": "be790341-b459-48db-a393-3b6b07009746",
   "metadata": {},
   "outputs": [
    {
     "name": "stdout",
     "output_type": "stream",
     "text": [
      "Model: \"sequential_2\"\n",
      "_________________________________________________________________\n",
      " Layer (type)                Output Shape              Param #   \n",
      "=================================================================\n",
      " flatten_2 (Flatten)         (None, 784)               0         \n",
      "                                                                 \n",
      " dense_2 (Dense)             (None, 10)                7850      \n",
      "                                                                 \n",
      " softmax_2 (Softmax)         (None, 10)                0         \n",
      "                                                                 \n",
      "=================================================================\n",
      "Total params: 7850 (30.66 KB)\n",
      "Trainable params: 7850 (30.66 KB)\n",
      "Non-trainable params: 0 (0.00 Byte)\n",
      "_________________________________________________________________\n",
      "None\n",
      "{'name': 'sequential_2', 'layers': [{'module': 'keras.layers', 'class_name': 'InputLayer', 'config': {'batch_input_shape': (None, 28, 28), 'dtype': 'float32', 'sparse': False, 'ragged': False, 'name': 'flatten_2_input'}, 'registered_name': None}, {'module': 'keras.layers', 'class_name': 'Flatten', 'config': {'name': 'flatten_2', 'trainable': True, 'dtype': 'float32', 'batch_input_shape': (None, 28, 28), 'data_format': 'channels_last'}, 'registered_name': None, 'build_config': {'input_shape': (None, 28, 28)}}, {'module': 'keras.layers', 'class_name': 'Dense', 'config': {'name': 'dense_2', 'trainable': True, 'dtype': 'float32', 'units': 10, 'activation': 'linear', 'use_bias': True, 'kernel_initializer': {'module': 'keras.initializers', 'class_name': 'GlorotUniform', 'config': {'seed': None}, 'registered_name': None}, 'bias_initializer': {'module': 'keras.initializers', 'class_name': 'Zeros', 'config': {}, 'registered_name': None}, 'kernel_regularizer': None, 'bias_regularizer': None, 'activity_regularizer': None, 'kernel_constraint': None, 'bias_constraint': None}, 'registered_name': None, 'build_config': {'input_shape': (None, 784)}}, {'module': 'keras.layers', 'class_name': 'Softmax', 'config': {'name': 'softmax_2', 'trainable': True, 'dtype': 'float32', 'axis': -1}, 'registered_name': None, 'build_config': {'input_shape': (None, 10)}}]}\n"
     ]
    }
   ],
   "source": [
    "checkpoint = \"training-simple-mnist/1000.ckpt\"\n",
    "\n",
    "try:\n",
    "    model.load_weights(checkpoint)\n",
    "except Exception as e:\n",
    "    print(e)\n",
    "    model.fit(ds_train, epochs=1000)\n",
    "    model.save_weights(checkpoint)\n",
    "\n",
    "print(model.summary())\n",
    "print(model.get_config())"
   ]
  },
  {
   "cell_type": "code",
   "execution_count": 81,
   "id": "5aa1c9b2-ff68-4755-949a-c1a3fe235089",
   "metadata": {},
   "outputs": [
    {
     "name": "stdout",
     "output_type": "stream",
     "text": [
      "1/1 - 0s - loss: 25.3632 - accuracy: 0.9200 - 42ms/epoch - 42ms/step\n",
      "\n",
      "Test accuracy: 0.9200000166893005\n"
     ]
    },
    {
     "name": "stderr",
     "output_type": "stream",
     "text": [
      "2023-12-04 23:58:00.083828: W tensorflow/core/kernels/data/cache_dataset_ops.cc:858] The calling iterator did not fully read the dataset being cached. In order to avoid unexpected truncation of the dataset, the partially cached contents of the dataset  will be discarded. This can happen if you have an input pipeline similar to `dataset.cache().take(k).repeat()`. You should use `dataset.take(k).cache().repeat()` instead.\n"
     ]
    }
   ],
   "source": [
    "# overall test\n",
    "test_loss, test_acc = model.evaluate(ds_test.take(1), verbose=2)\n",
    "print('\\nTest accuracy:', test_acc)"
   ]
  },
  {
   "cell_type": "code",
   "execution_count": 88,
   "id": "55ed9898-deca-4e6b-b166-cb0c1281ae96",
   "metadata": {},
   "outputs": [
    {
     "name": "stdout",
     "output_type": "stream",
     "text": [
      "Model: \"sequential_8\"\n",
      "_________________________________________________________________\n",
      " Layer (type)                Output Shape              Param #   \n",
      "=================================================================\n",
      " flatten_9 (Flatten)         (None, 784)               0         \n",
      "                                                                 \n",
      " dense_12 (Dense)            (None, 100)               78500     \n",
      "                                                                 \n",
      " dense_13 (Dense)            (None, 10)                1010      \n",
      "                                                                 \n",
      " softmax_8 (Softmax)         (None, 10)                0         \n",
      "                                                                 \n",
      "=================================================================\n",
      "Total params: 79510 (310.59 KB)\n",
      "Trainable params: 79510 (310.59 KB)\n",
      "Non-trainable params: 0 (0.00 Byte)\n",
      "_________________________________________________________________\n",
      "None\n",
      "{'name': 'sequential_8', 'layers': [{'module': 'keras.layers', 'class_name': 'InputLayer', 'config': {'batch_input_shape': (None, 28, 28), 'dtype': 'float32', 'sparse': False, 'ragged': False, 'name': 'flatten_9_input'}, 'registered_name': None}, {'module': 'keras.layers', 'class_name': 'Flatten', 'config': {'name': 'flatten_9', 'trainable': True, 'dtype': 'float32', 'batch_input_shape': (None, 28, 28), 'data_format': 'channels_last'}, 'registered_name': None, 'build_config': {'input_shape': (None, 28, 28)}}, {'module': 'keras.layers', 'class_name': 'Dense', 'config': {'name': 'dense_12', 'trainable': True, 'dtype': 'float32', 'units': 100, 'activation': 'relu', 'use_bias': True, 'kernel_initializer': {'module': 'keras.initializers', 'class_name': 'GlorotUniform', 'config': {'seed': None}, 'registered_name': None}, 'bias_initializer': {'module': 'keras.initializers', 'class_name': 'Zeros', 'config': {}, 'registered_name': None}, 'kernel_regularizer': None, 'bias_regularizer': None, 'activity_regularizer': None, 'kernel_constraint': None, 'bias_constraint': None}, 'registered_name': None, 'build_config': {'input_shape': (None, 784)}}, {'module': 'keras.layers', 'class_name': 'Dense', 'config': {'name': 'dense_13', 'trainable': True, 'dtype': 'float32', 'units': 10, 'activation': 'linear', 'use_bias': True, 'kernel_initializer': {'module': 'keras.initializers', 'class_name': 'GlorotUniform', 'config': {'seed': None}, 'registered_name': None}, 'bias_initializer': {'module': 'keras.initializers', 'class_name': 'Zeros', 'config': {}, 'registered_name': None}, 'kernel_regularizer': None, 'bias_regularizer': None, 'activity_regularizer': None, 'kernel_constraint': None, 'bias_constraint': None}, 'registered_name': None, 'build_config': {'input_shape': (None, 100)}}, {'module': 'keras.layers', 'class_name': 'Softmax', 'config': {'name': 'softmax_8', 'trainable': True, 'dtype': 'float32', 'axis': -1}, 'registered_name': None, 'build_config': {'input_shape': (None, 10)}}]}\n",
      "Received incompatible tensor with shape (10,) when attempting to restore variable with shape (100,) and name dense_12/bias:0.\n",
      "Epoch 1/100\n",
      "600/600 [==============================] - 2s 2ms/step - loss: 33.4970 - accuracy: 0.9079\n",
      "Epoch 2/100\n",
      "600/600 [==============================] - 1s 2ms/step - loss: 15.9024 - accuracy: 0.9543\n",
      "Epoch 3/100\n",
      "600/600 [==============================] - 1s 2ms/step - loss: 11.3906 - accuracy: 0.9678\n",
      "Epoch 4/100\n",
      "600/600 [==============================] - 1s 2ms/step - loss: 8.9605 - accuracy: 0.9745\n",
      "Epoch 5/100\n",
      "600/600 [==============================] - 1s 2ms/step - loss: 7.4124 - accuracy: 0.9792\n",
      "Epoch 6/100\n",
      "600/600 [==============================] - 1s 2ms/step - loss: 6.3031 - accuracy: 0.9824\n",
      "Epoch 7/100\n",
      "600/600 [==============================] - 1s 2ms/step - loss: 5.4670 - accuracy: 0.9851\n",
      "Epoch 8/100\n",
      "600/600 [==============================] - 1s 2ms/step - loss: 4.7836 - accuracy: 0.9870\n",
      "Epoch 9/100\n",
      "600/600 [==============================] - 1s 2ms/step - loss: 4.2047 - accuracy: 0.9890\n",
      "Epoch 10/100\n",
      "600/600 [==============================] - 1s 2ms/step - loss: 3.7120 - accuracy: 0.9905\n",
      "Epoch 11/100\n",
      "600/600 [==============================] - 1s 2ms/step - loss: 3.2753 - accuracy: 0.9918\n",
      "Epoch 12/100\n",
      "600/600 [==============================] - 1s 2ms/step - loss: 2.8920 - accuracy: 0.9929\n",
      "Epoch 13/100\n",
      "600/600 [==============================] - 1s 2ms/step - loss: 2.5644 - accuracy: 0.9938\n",
      "Epoch 14/100\n",
      "600/600 [==============================] - 1s 2ms/step - loss: 2.2789 - accuracy: 0.9947\n",
      "Epoch 15/100\n",
      "600/600 [==============================] - 1s 2ms/step - loss: 2.0208 - accuracy: 0.9954\n",
      "Epoch 16/100\n",
      "600/600 [==============================] - 1s 2ms/step - loss: 1.7836 - accuracy: 0.9959\n",
      "Epoch 17/100\n",
      "600/600 [==============================] - 1s 2ms/step - loss: 1.5761 - accuracy: 0.9966\n",
      "Epoch 18/100\n",
      "600/600 [==============================] - 1s 2ms/step - loss: 1.3946 - accuracy: 0.9972\n",
      "Epoch 19/100\n",
      "600/600 [==============================] - 1s 2ms/step - loss: 1.2291 - accuracy: 0.9976\n",
      "Epoch 20/100\n",
      "600/600 [==============================] - 1s 2ms/step - loss: 1.0950 - accuracy: 0.9980\n",
      "Epoch 21/100\n",
      "600/600 [==============================] - 1s 2ms/step - loss: 0.9723 - accuracy: 0.9982\n",
      "Epoch 22/100\n",
      "600/600 [==============================] - 1s 2ms/step - loss: 0.8563 - accuracy: 0.9984\n",
      "Epoch 23/100\n",
      "600/600 [==============================] - 1s 2ms/step - loss: 0.7609 - accuracy: 0.9985\n",
      "Epoch 24/100\n",
      "600/600 [==============================] - 1s 2ms/step - loss: 0.6788 - accuracy: 0.9987\n",
      "Epoch 25/100\n",
      "600/600 [==============================] - 1s 2ms/step - loss: 0.5896 - accuracy: 0.9990\n",
      "Epoch 26/100\n",
      "600/600 [==============================] - 1s 2ms/step - loss: 0.5217 - accuracy: 0.9991\n",
      "Epoch 27/100\n",
      "600/600 [==============================] - 1s 2ms/step - loss: 0.4661 - accuracy: 0.9992\n",
      "Epoch 28/100\n",
      "600/600 [==============================] - 1s 2ms/step - loss: 0.4115 - accuracy: 0.9993\n",
      "Epoch 29/100\n",
      "600/600 [==============================] - 1s 2ms/step - loss: 0.3739 - accuracy: 0.9994\n",
      "Epoch 30/100\n",
      "600/600 [==============================] - 1s 2ms/step - loss: 0.3307 - accuracy: 0.9994\n",
      "Epoch 31/100\n",
      "600/600 [==============================] - 1s 2ms/step - loss: 0.2950 - accuracy: 0.9995\n",
      "Epoch 32/100\n",
      "600/600 [==============================] - 1s 2ms/step - loss: 0.2706 - accuracy: 0.9995\n",
      "Epoch 33/100\n",
      "600/600 [==============================] - 1s 2ms/step - loss: 0.2260 - accuracy: 0.9996\n",
      "Epoch 34/100\n",
      "600/600 [==============================] - 1s 2ms/step - loss: 0.2030 - accuracy: 0.9997\n",
      "Epoch 35/100\n",
      "600/600 [==============================] - 1s 2ms/step - loss: 0.1822 - accuracy: 0.9997\n",
      "Epoch 36/100\n",
      "600/600 [==============================] - 1s 2ms/step - loss: 0.1626 - accuracy: 0.9998\n",
      "Epoch 37/100\n",
      "600/600 [==============================] - 1s 2ms/step - loss: 0.1506 - accuracy: 0.9998\n",
      "Epoch 38/100\n",
      "600/600 [==============================] - 1s 2ms/step - loss: 0.1350 - accuracy: 0.9998\n",
      "Epoch 39/100\n",
      "600/600 [==============================] - 1s 2ms/step - loss: 0.1278 - accuracy: 0.9998\n",
      "Epoch 40/100\n",
      "600/600 [==============================] - 1s 2ms/step - loss: 0.1183 - accuracy: 0.9998\n",
      "Epoch 41/100\n",
      "600/600 [==============================] - 1s 2ms/step - loss: 0.1064 - accuracy: 0.9998\n",
      "Epoch 42/100\n",
      "600/600 [==============================] - 1s 2ms/step - loss: 0.0914 - accuracy: 0.9999\n",
      "Epoch 43/100\n",
      "600/600 [==============================] - 1s 2ms/step - loss: 0.0914 - accuracy: 0.9999\n",
      "Epoch 44/100\n",
      "600/600 [==============================] - 1s 2ms/step - loss: 0.0849 - accuracy: 0.9999\n",
      "Epoch 45/100\n",
      "600/600 [==============================] - 1s 2ms/step - loss: 0.0721 - accuracy: 0.9999\n",
      "Epoch 46/100\n",
      "600/600 [==============================] - 1s 2ms/step - loss: 0.0741 - accuracy: 0.9999\n",
      "Epoch 47/100\n",
      "600/600 [==============================] - 1s 2ms/step - loss: 0.0713 - accuracy: 0.9999\n",
      "Epoch 48/100\n",
      "600/600 [==============================] - 1s 2ms/step - loss: 0.0670 - accuracy: 0.9999\n",
      "Epoch 49/100\n",
      "600/600 [==============================] - 1s 2ms/step - loss: 0.0621 - accuracy: 0.9999\n",
      "Epoch 50/100\n",
      "600/600 [==============================] - 1s 2ms/step - loss: 0.0688 - accuracy: 0.9999\n",
      "Epoch 51/100\n",
      "600/600 [==============================] - 1s 2ms/step - loss: 0.0608 - accuracy: 0.9999\n",
      "Epoch 52/100\n",
      "600/600 [==============================] - 1s 2ms/step - loss: 0.0629 - accuracy: 0.9999\n",
      "Epoch 53/100\n",
      "600/600 [==============================] - 1s 2ms/step - loss: 0.0584 - accuracy: 0.9999\n",
      "Epoch 54/100\n",
      "600/600 [==============================] - 1s 2ms/step - loss: 0.0537 - accuracy: 0.9999\n",
      "Epoch 55/100\n",
      "600/600 [==============================] - 1s 2ms/step - loss: 0.0487 - accuracy: 0.9999\n",
      "Epoch 56/100\n",
      "600/600 [==============================] - 1s 2ms/step - loss: 0.0545 - accuracy: 0.9999\n",
      "Epoch 57/100\n",
      "600/600 [==============================] - 1s 2ms/step - loss: 0.0449 - accuracy: 0.9999\n",
      "Epoch 58/100\n",
      "600/600 [==============================] - 1s 2ms/step - loss: 0.0479 - accuracy: 0.9999\n",
      "Epoch 59/100\n",
      "600/600 [==============================] - 1s 2ms/step - loss: 0.0450 - accuracy: 0.9999\n",
      "Epoch 60/100\n",
      "600/600 [==============================] - 1s 2ms/step - loss: 0.0388 - accuracy: 0.9999\n",
      "Epoch 61/100\n",
      "600/600 [==============================] - 1s 2ms/step - loss: 0.0401 - accuracy: 0.9999\n",
      "Epoch 62/100\n",
      "600/600 [==============================] - 1s 2ms/step - loss: 0.0395 - accuracy: 0.9999\n",
      "Epoch 63/100\n",
      "600/600 [==============================] - 1s 2ms/step - loss: 0.0316 - accuracy: 0.9999\n",
      "Epoch 64/100\n",
      "600/600 [==============================] - 1s 2ms/step - loss: 0.0283 - accuracy: 0.9999\n",
      "Epoch 65/100\n",
      "600/600 [==============================] - 1s 2ms/step - loss: 0.0223 - accuracy: 0.9999\n",
      "Epoch 66/100\n",
      "600/600 [==============================] - 1s 2ms/step - loss: 0.0172 - accuracy: 0.9999\n",
      "Epoch 67/100\n",
      "600/600 [==============================] - 1s 2ms/step - loss: 0.0140 - accuracy: 0.9999\n",
      "Epoch 68/100\n",
      "600/600 [==============================] - 1s 2ms/step - loss: 0.0101 - accuracy: 0.9999\n",
      "Epoch 69/100\n",
      "600/600 [==============================] - 1s 2ms/step - loss: 0.0055 - accuracy: 0.9999\n",
      "Epoch 70/100\n",
      "600/600 [==============================] - 1s 2ms/step - loss: 0.0031 - accuracy: 1.0000\n",
      "Epoch 71/100\n",
      "600/600 [==============================] - 1s 2ms/step - loss: 0.0019 - accuracy: 1.0000\n",
      "Epoch 72/100\n",
      "600/600 [==============================] - 1s 2ms/step - loss: 0.0013 - accuracy: 1.0000\n",
      "Epoch 73/100\n",
      "600/600 [==============================] - 1s 2ms/step - loss: 0.0011 - accuracy: 1.0000\n",
      "Epoch 74/100\n",
      "600/600 [==============================] - 1s 2ms/step - loss: 6.3060e-04 - accuracy: 1.0000\n",
      "Epoch 75/100\n",
      "600/600 [==============================] - 1s 2ms/step - loss: 5.0459e-04 - accuracy: 1.0000\n",
      "Epoch 76/100\n",
      "600/600 [==============================] - 1s 2ms/step - loss: 3.1356e-04 - accuracy: 1.0000\n",
      "Epoch 77/100\n",
      "600/600 [==============================] - 1s 2ms/step - loss: 2.0014e-04 - accuracy: 1.0000\n",
      "Epoch 78/100\n",
      "600/600 [==============================] - 1s 1ms/step - loss: 1.5303e-04 - accuracy: 1.0000\n",
      "Epoch 79/100\n",
      "600/600 [==============================] - 1s 2ms/step - loss: 1.2311e-04 - accuracy: 1.0000\n",
      "Epoch 80/100\n",
      "600/600 [==============================] - 1s 2ms/step - loss: 1.0030e-04 - accuracy: 1.0000\n",
      "Epoch 81/100\n",
      "600/600 [==============================] - 1s 2ms/step - loss: 8.7697e-05 - accuracy: 1.0000\n",
      "Epoch 82/100\n",
      "600/600 [==============================] - 1s 2ms/step - loss: 7.7854e-05 - accuracy: 1.0000\n",
      "Epoch 83/100\n",
      "600/600 [==============================] - 1s 2ms/step - loss: 7.1828e-05 - accuracy: 1.0000\n",
      "Epoch 84/100\n",
      "600/600 [==============================] - 1s 2ms/step - loss: 6.6600e-05 - accuracy: 1.0000\n",
      "Epoch 85/100\n",
      "600/600 [==============================] - 1s 2ms/step - loss: 6.2391e-05 - accuracy: 1.0000\n",
      "Epoch 86/100\n",
      "600/600 [==============================] - 1s 2ms/step - loss: 5.8547e-05 - accuracy: 1.0000\n",
      "Epoch 87/100\n",
      "600/600 [==============================] - 1s 2ms/step - loss: 5.5343e-05 - accuracy: 1.0000\n",
      "Epoch 88/100\n",
      "600/600 [==============================] - 1s 2ms/step - loss: 5.2244e-05 - accuracy: 1.0000\n",
      "Epoch 89/100\n",
      "600/600 [==============================] - 1s 2ms/step - loss: 4.9665e-05 - accuracy: 1.0000\n",
      "Epoch 90/100\n",
      "600/600 [==============================] - 1s 2ms/step - loss: 4.7282e-05 - accuracy: 1.0000\n",
      "Epoch 91/100\n",
      "600/600 [==============================] - 1s 2ms/step - loss: 4.5060e-05 - accuracy: 1.0000\n",
      "Epoch 92/100\n",
      "600/600 [==============================] - 1s 2ms/step - loss: 4.3131e-05 - accuracy: 1.0000\n",
      "Epoch 93/100\n",
      "600/600 [==============================] - 1s 2ms/step - loss: 4.1344e-05 - accuracy: 1.0000\n",
      "Epoch 94/100\n",
      "600/600 [==============================] - 1s 2ms/step - loss: 3.9675e-05 - accuracy: 1.0000\n",
      "Epoch 95/100\n",
      "600/600 [==============================] - 1s 2ms/step - loss: 3.8175e-05 - accuracy: 1.0000\n",
      "Epoch 96/100\n",
      "600/600 [==============================] - 1s 2ms/step - loss: 3.6749e-05 - accuracy: 1.0000\n",
      "Epoch 97/100\n",
      "600/600 [==============================] - 1s 2ms/step - loss: 3.5446e-05 - accuracy: 1.0000\n",
      "Epoch 98/100\n",
      "600/600 [==============================] - 1s 2ms/step - loss: 3.4222e-05 - accuracy: 1.0000\n",
      "Epoch 99/100\n",
      "600/600 [==============================] - 1s 2ms/step - loss: 3.3084e-05 - accuracy: 1.0000\n",
      "Epoch 100/100\n",
      "600/600 [==============================] - 1s 2ms/step - loss: 3.2041e-05 - accuracy: 1.0000\n",
      "WARNING:tensorflow:5 out of the last 107 calls to <function Model.make_test_function.<locals>.test_function at 0x7efb30e691b0> triggered tf.function retracing. Tracing is expensive and the excessive number of tracings could be due to (1) creating @tf.function repeatedly in a loop, (2) passing tensors with different shapes, (3) passing Python objects instead of tensors. For (1), please define your @tf.function outside of the loop. For (2), @tf.function has reduce_retracing=True option that can avoid unnecessary retracing. For (3), please refer to https://www.tensorflow.org/guide/function#controlling_retracing and https://www.tensorflow.org/api_docs/python/tf/function for  more details.\n"
     ]
    },
    {
     "name": "stderr",
     "output_type": "stream",
     "text": [
      "2023-12-05 00:55:59.831903: W tensorflow/core/kernels/data/cache_dataset_ops.cc:858] The calling iterator did not fully read the dataset being cached. In order to avoid unexpected truncation of the dataset, the partially cached contents of the dataset  will be discarded. This can happen if you have an input pipeline similar to `dataset.cache().take(k).repeat()`. You should use `dataset.take(k).cache().repeat()` instead.\n",
      "WARNING:tensorflow:5 out of the last 107 calls to <function Model.make_test_function.<locals>.test_function at 0x7efb30e691b0> triggered tf.function retracing. Tracing is expensive and the excessive number of tracings could be due to (1) creating @tf.function repeatedly in a loop, (2) passing tensors with different shapes, (3) passing Python objects instead of tensors. For (1), please define your @tf.function outside of the loop. For (2), @tf.function has reduce_retracing=True option that can avoid unnecessary retracing. For (3), please refer to https://www.tensorflow.org/guide/function#controlling_retracing and https://www.tensorflow.org/api_docs/python/tf/function for  more details.\n"
     ]
    },
    {
     "name": "stdout",
     "output_type": "stream",
     "text": [
      "1/1 - 0s - loss: 10.0891 - accuracy: 0.9800 - 131ms/epoch - 131ms/step\n",
      "\n",
      "Test accuracy: 0.9800000190734863\n"
     ]
    }
   ],
   "source": [
    "# wx + b + relu\n",
    "model = tf.keras.models.Sequential([\n",
    "  tf.keras.layers.Flatten(input_shape=(28, 28)),\n",
    "  tf.keras.layers.Dense(100, activation='relu'),\n",
    "  tf.keras.layers.Dense(10),\n",
    "  tf.keras.layers.Softmax()\n",
    "])\n",
    "\n",
    "# loss fn\n",
    "cross_en = tf.keras.losses.SparseCategoricalCrossentropy(reduction=tf.keras.losses.Reduction.SUM)\n",
    "\n",
    "model.compile(loss=cross_en, metrics=['accuracy'])\n",
    "\n",
    "print(model.summary())\n",
    "print(model.get_config())\n",
    "\n",
    "checkpoint = \"training-simple-mnist/100_relu.ckpt\"\n",
    "\n",
    "try:\n",
    "    model.load_weights(checkpoint)\n",
    "except Exception as e:\n",
    "    print(e)\n",
    "    model.fit(ds_train, epochs=100)\n",
    "    model.save_weights(checkpoint)\n",
    "\n",
    "\n",
    "\n",
    "# overall test\n",
    "test_loss, test_acc = model.evaluate(ds_test.take(1), verbose=2)\n",
    "print('\\nTest accuracy:', test_acc)"
   ]
  }
 ],
 "metadata": {
  "kernelspec": {
   "display_name": "Python 3 (ipykernel)",
   "language": "python",
   "name": "python3"
  },
  "language_info": {
   "codemirror_mode": {
    "name": "ipython",
    "version": 3
   },
   "file_extension": ".py",
   "mimetype": "text/x-python",
   "name": "python",
   "nbconvert_exporter": "python",
   "pygments_lexer": "ipython3",
   "version": "3.10.12"
  }
 },
 "nbformat": 4,
 "nbformat_minor": 5
}
